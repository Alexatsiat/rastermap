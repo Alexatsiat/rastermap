{
 "cells": [
  {
   "cell_type": "code",
   "execution_count": null,
   "metadata": {},
   "outputs": [],
   "source": [
    "import numpy as np\n",
    "import scipy\n",
    "\n",
    "S = np.load('spks.npy')\n",
    "S -= S.mean(axis=1)[:,np.newaxis]"
   ]
  },
  {
   "cell_type": "code",
   "execution_count": null,
   "metadata": {},
   "outputs": [],
   "source": [
    "iscell = np.load('iscell.npy')\n",
    "S = S[iscell[:,0].astype(bool),:]"
   ]
  },
  {
   "cell_type": "code",
   "execution_count": null,
   "metadata": {},
   "outputs": [],
   "source": [
    "import time\n",
    "import scipy.linalg\n",
    "\n",
    "tic = time.time()\n",
    "u,s,v = scipy.linalg.svd(S,full_matrices=0)\n",
    "print(time.time()-tic)\n",
    "\n",
    "#tic = time.time()\n",
    "#u,s,v = np.linalg.svd(S,full_matrices=0)\n",
    "#print(time.time()-tic)\n"
   ]
  },
  {
   "cell_type": "code",
   "execution_count": null,
   "metadata": {},
   "outputs": [],
   "source": [
    "tic = time.time()\n",
    "smin = min(S.shape)\n",
    "sv,u = scipy.linalg.eigh(S @ S.T, \n",
    "                        eigvals=(0,np.minimum(smin,200)))\n",
    "v = u.T @ S\n",
    "print(time.time()-tic)"
   ]
  },
  {
   "cell_type": "code",
   "execution_count": null,
   "metadata": {},
   "outputs": [],
   "source": [
    "import scipy.sparse.linalg\n",
    "\n",
    "tic = time.time()\n",
    "sv,u = scipy.sparse.linalg.eigsh(S @ S.T, k=200)\n",
    "v = S.T @ u\n",
    "print(time.time()-tic)"
   ]
  },
  {
   "cell_type": "code",
   "execution_count": null,
   "metadata": {},
   "outputs": [],
   "source": [
    "tic = time.time()\n",
    "u,sv,v = scipy.sparse.linalg.svds(S, k=200)\n",
    "print(time.time()-tic)"
   ]
  },
  {
   "cell_type": "code",
   "execution_count": null,
   "metadata": {},
   "outputs": [],
   "source": [
    "import time\n",
    "#sys.path.insert(0, '/media/carsen/DATA2/Github/dynamap/dynamap/')\n",
    "from skimage.filters import gaussian\n",
    "from scipy.ndimage import gaussian_filter1d\n",
    "\n",
    "Snorm = S - S.min()\n",
    "Snorm /= Snorm.max()\n",
    "tic = time.time()\n",
    "ss = gaussian(Snorm,(0,5))\n",
    "print(time.time()-tic)\n",
    "\n",
    "tic = time.time()\n",
    "ss = gaussian_filter1d(Snorm.T,5,axis=1)\n",
    "print(time.time()-tic)"
   ]
  },
  {
   "cell_type": "code",
   "execution_count": null,
   "metadata": {},
   "outputs": [],
   "source": [
    "import sys\n",
    "import time\n",
    "sys.path.insert(0, 'C:/Users/carse/github/embeddings/dynamap/')\n",
    "import map\n",
    "import imp\n",
    "imp.reload(map)\n",
    "tic=time.time()\n",
    "Sm,isort1,isort2, = map.main(S)\n",
    "print(time.time()-tic)"
   ]
  },
  {
   "cell_type": "code",
   "execution_count": null,
   "metadata": {},
   "outputs": [],
   "source": [
    "# smooth in time sorting\n",
    "import matplotlib.pyplot as plt\n",
    "%matplotlib inline\n",
    "\n",
    "plt.figure(figsize=(12,12))\n",
    "plt.imshow(Sm[:1000,:3000],vmin=0,vmax=5)"
   ]
  },
  {
   "cell_type": "code",
   "execution_count": null,
   "metadata": {},
   "outputs": [],
   "source": [
    "from scipy.ndimage import gaussian_filter1d\n",
    "tic=time.time()\n",
    "Sm = gaussian_filter1d(Sm.T, int(Sm.shape[0]*0.005), axis=1)\n",
    "print(time.time()-tic)"
   ]
  },
  {
   "cell_type": "code",
   "execution_count": null,
   "metadata": {},
   "outputs": [],
   "source": [
    "tic=time.time()\n",
    "Sm = S.T\n",
    "ss = gaussian_filter1d(Sm, int(Sm.shape[0]*0.005), axis=1)\n",
    "print(time.time()-tic)"
   ]
  },
  {
   "cell_type": "code",
   "execution_count": null,
   "metadata": {},
   "outputs": [],
   "source": [
    "from scipy.stats import zscore\n",
    "tic=time.time()\n",
    "Sm = gaussian_filter1d(S[isort1,:].T, np.minimum(8,int(S.shape[0]*0.005)), axis=1)\n",
    "Sm = Sm.T\n",
    "Sm = zscore(Sm, axis=1)\n",
    "print(time.time()-tic)\n",
    "    "
   ]
  },
  {
   "cell_type": "code",
   "execution_count": null,
   "metadata": {},
   "outputs": [],
   "source": []
  }
 ],
 "metadata": {
  "kernelspec": {
   "display_name": "Python 3",
   "language": "python",
   "name": "python3"
  },
  "language_info": {
   "codemirror_mode": {
    "name": "ipython",
    "version": 3
   },
   "file_extension": ".py",
   "mimetype": "text/x-python",
   "name": "python",
   "nbconvert_exporter": "python",
   "pygments_lexer": "ipython3",
   "version": "3.6.5"
  }
 },
 "nbformat": 4,
 "nbformat_minor": 2
}
