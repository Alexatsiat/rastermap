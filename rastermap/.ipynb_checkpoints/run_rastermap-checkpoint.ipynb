{
 "cells": [
  {
   "cell_type": "code",
   "execution_count": null,
   "metadata": {},
   "outputs": [],
   "source": [
    "from scipy.ndimage import gaussian_filter1d\n",
    "from scipy.stats import zscore\n",
    "import numpy as np\n",
    "import matplotlib.pyplot as plt\n",
    "%matplotlib inline\n",
    "\n",
    "# load data\n",
    "S = np.load('/media/carsen/DATA1/BootCamp/mesoscope_cortex/spks.npy')\n",
    "iscell = np.load('/media/carsen/DATA1/BootCamp/mesoscope_cortex/iscell.npy')\n",
    "S = S[iscell[:,0].astype(bool),:]\n"
   ]
  },
  {
   "cell_type": "code",
   "execution_count": null,
   "metadata": {},
   "outputs": [],
   "source": [
    "# rastermap algorithm\n",
    "import sys\n",
    "sys.path.insert(0, '/media/carsen/DATA2/github/rastermap/rastermap/')\n",
    "from rastermap import rastermap\n",
    "\n",
    "# run sorting\n",
    "isort1,isort2 = rastermap.main(S)\n",
    "# isort1 is neuron sorting, isort2 is time sorting\n"
   ]
  },
  {
   "cell_type": "code",
   "execution_count": null,
   "metadata": {},
   "outputs": [],
   "source": [
    "# sort neurons and smooth in time and zscore\n",
    "Sm = gaussian_filter1d(S[isort1,:].T, np.minimum(10,int(S.shape[0]*0.005)), axis=1)\n",
    "Sm = Sm.T\n",
    "Sm = zscore(Sm, axis=1)\n"
   ]
  },
  {
   "cell_type": "code",
   "execution_count": null,
   "metadata": {},
   "outputs": [],
   "source": [
    "# view neuron sorting\n",
    "plt.figure(figsize=(12,12))\n",
    "plt.imshow(Sm[:1000,:3000],vmin=0,vmax=5)"
   ]
  }
 ],
 "metadata": {
  "kernelspec": {
   "display_name": "Python 3",
   "language": "python",
   "name": "python3"
  },
  "language_info": {
   "codemirror_mode": {
    "name": "ipython",
    "version": 3
   },
   "file_extension": ".py",
   "mimetype": "text/x-python",
   "name": "python",
   "nbconvert_exporter": "python",
   "pygments_lexer": "ipython3",
   "version": "3.6.5"
  }
 },
 "nbformat": 4,
 "nbformat_minor": 2
}
